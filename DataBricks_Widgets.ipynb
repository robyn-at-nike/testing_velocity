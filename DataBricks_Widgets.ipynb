{
 "cells": [
  {
   "cell_type": "markdown",
   "metadata": {},
   "source": [
    "## Databricks Widgets code notes\n",
    "\n",
    "* https://docs.databricks.com/en/notebooks/widgets.html\n",
    "* https://docs.databricks.com/en/dev-tools/databricks-utils.html"
   ]
  },
  {
   "cell_type": "markdown",
   "metadata": {},
   "source": []
  },
  {
   "cell_type": "code",
   "execution_count": null,
   "metadata": {
    "vscode": {
     "languageId": "sql"
    }
   },
   "outputs": [],
   "source": [
    "--  Widget help syntax \n",
    "\n",
    "%python\n",
    "\n",
    "dbutils.widgets.help()\n",
    "dbutils.widgets.help(\"dropdown\") \n",
    "\n",
    "\n"
   ]
  }
 ],
 "metadata": {
  "language_info": {
   "name": "python"
  }
 },
 "nbformat": 4,
 "nbformat_minor": 2
}
