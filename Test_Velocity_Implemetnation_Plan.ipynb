{
  "nbformat": 4,
  "nbformat_minor": 0,
  "metadata": {
    "colab": {
      "provenance": [],
      "toc_visible": true
    },
    "kernelspec": {
      "name": "python3",
      "display_name": "Python 3"
    },
    "language_info": {
      "name": "python"
    }
  },
  "cells": [
    {
      "cell_type": "markdown",
      "source": [
        "\n",
        "\n",
        "# A/B Test Measurement Automation Project Plan\n",
        "\n",
        "### Objective:\n",
        "Enhance efficiency by automating the A/B test measurement process to save time and resources.\n",
        "\n",
        "### Strategy:\n",
        "- Eliminate the dependency on Excel by automating statistical testing and rebalancing steps directly within Databricks, thereby streamlining the process.\n",
        "\n",
        "### Key Benefits\n",
        "1. **In Notebook Rebalancing:**\n",
        "   - Transition from a 3-step process involving Databricks and Excel to a fully integrated Databricks solution.\n",
        "   - Estimated Time Savings: 30 minutes to 1 hour per analysis.\n",
        "\n",
        "2. **In Notebook Statistical Testing (Scorecard Creation):**\n",
        "   - Move from a 2-step process using Databricks and Excel to a complete Databricks execution.\n",
        "   - Estimated Time Savings: 30 minutes per analysis.\n",
        "\n",
        "3. **Ad-hoc Analysis Efficiency:**\n",
        "   - Significant speed improvements in ad-hoc analysis, reducing SQL query times and facilitating quicker calculations within Python (Pandas) dataframes.\n",
        "\n",
        "### Implementation Steps:\n",
        "\n",
        "1. **Statistical Test Selection:**\n",
        "   - The COE group will finalize the selection of statistical tests for Demand (Mann Whitney U test) and Conversion data (Chi Square Test).\n",
        "   - Align on the appropriate statistical tests to ensure accurate data analysis.\n",
        "\n",
        "2. **Template Development:**\n",
        "   - Develop iterations of the new template for various types of tests, transitioning from [14 different current templates](https://nike-ae-turing.cloud.databricks.com/browse/folders/1816541979074554?o=8942969792749152) to a streamlined set.\n",
        "   - Templates to be reviewed by the Nike Data Science and Analytics team for validation.\n",
        "   > * [Email Incremental Demand Test/Control](https://nike-ae-turing.cloud.databricks.com/?o=8942969792749152#notebook/38127952864049/command/38127952864094)\n",
        "   > * [AJO Incremental Demand Test/Holdout](https://nike-ae-turing.cloud.databricks.com/?o=8942969792749152#notebook/38127952970408/command/38127952973266)\n",
        "   > * [Rebalancing Scratch Pad](https://colab.research.google.com/drive/1rTmxUE9fGf-x6t2a17bd6yd29nuBmJHG#scrollTo=P7pi79FsOOPI)\n",
        "   > * [Rebalancing Notebook](https://nike-ae-turing.cloud.databricks.com/?o=8942969792749152#notebook/1863863206525191/command/1863863206525264)\n",
        "\n",
        "\n",
        "3. **Team Training:**\n",
        "   - Share out resources for a Python training, covering essential programming concepts and data manipulation with Pandas.\n",
        "   - Resources include online courses from py4e.com, Google’s Python Crash Course, and Kaggle for a practical understanding of Pandas and optional Numpy tutorials for advanced mathematical operations.\n",
        "   - **<u>Free training courses</u>**\n",
        "\n",
        "    *Python Crash Course*\n",
        "    * [Python for Everybody](https://www.py4e.com/lessons ) - Special attention to: Ch. 5 - Functions, Ch. 6 - Loops & Iterations, Ch. 9 - 11 Lists, Dictionaries and Tuples.\n",
        "    * [Google’s Python Crash Course](https://developers.google.com/edu/python)\n",
        "    * [Google’s Python Crash Course on Coursera](https://www.coursera.org/learn/python-crash-course?) (plenty of example problems here)\n",
        "\n",
        "    *Introduction to Pandas (the Python Library for Data Analysis)*\n",
        "    * [Databricks Pandas Tutorial Part I](https://nike-ae-turing.cloud.databricks.com/?o=8942969792749152#notebook/192014735988976/command/192014735988977)\n",
        "    * [Databricks Pandas Tutorial Part II](https://nike-ae-turing.cloud.databricks.com/?o=8942969792749152#notebook/192014735988872/command/192014735988873)\n",
        "    * [Learn Pandas on Kaggle](https://www.kaggle.com/learn/pandas)\n",
        "    * [A Gentle Introduction to Pandas Data Analysis](https://youtu.be/_Eb0utIRdkw?feature=shared)\n",
        "    * [Python Pandas for your Grandpa](https://youtube.com/playlist?list=PL9oKUrtC4VP7ry0um1QOUUfJBXKnkf-dA&feature=shared) “So easy your grandpa could learn it.”\n",
        "\n",
        "    *Optional: Introduction to Numpy (the Python library for doing advanced math on large datasets)*\n",
        "    * [Python Numpy for your Grandma](https://www.youtube.com/playlist?list=PL9oKUrtC4VP6gDp1Vq3BzfViO0TWgR0vR) “So easy, your grandma could learn it!“\n",
        "\n",
        "4. **Dual Operation Phase:**\n",
        "   - Implement a 6-week period where both new and old templates are used in parallel to compare outcomes, ease of use, and overall velocity in the A/B test measurement process.\n",
        "\n",
        "5. **Evaluation and Adjustment:**\n",
        "   - After the 6-week trial, evaluate the effectiveness of the new templates in terms of value addition and time savings.\n",
        "   - Decide on the adoption scale of the new templates based on the assessment results.\n",
        "\n",
        "### Monitoring and Support:\n",
        "- Throughout the 6-week implementation phase, offer continuous support during Peer Review standups for troubleshooting and queries.\n",
        "\n",
        "**Conclusion:**\n",
        "- Final assessment to determine the extent of integration of the new templates based on their performance and user feedback, allowing for selective adoption based on efficiency gains.\n",
        "\n",
        "**Project Timeline:**\n",
        "- Kickoff in Week 1 with a detailed walkthrough of the new templates, followed by a 5-week evaluation phase and concluding with an assessment and decision-making on the future use of the automated process."
      ],
      "metadata": {
        "id": "BCrSY5Qtu4Ma"
      }
    },
    {
      "cell_type": "code",
      "source": [],
      "metadata": {
        "id": "X6peLMzk3VNg"
      },
      "execution_count": null,
      "outputs": []
    }
  ]
}